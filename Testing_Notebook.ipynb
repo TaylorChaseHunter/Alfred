{
 "cells": [
  {
   "cell_type": "markdown",
   "id": "rubber-floating",
   "metadata": {},
   "source": [
    "## Notebook for a ML/AI playground"
   ]
  },
  {
   "cell_type": "markdown",
   "id": "written-basic",
   "metadata": {},
   "source": [
    "### Unpickle, load, and clean data "
   ]
  },
  {
   "cell_type": "code",
   "execution_count": 1,
   "id": "racial-waterproof",
   "metadata": {},
   "outputs": [],
   "source": [
    "import pandas as pd"
   ]
  },
  {
   "cell_type": "code",
   "execution_count": 2,
   "id": "functioning-adams",
   "metadata": {},
   "outputs": [],
   "source": [
    "df = pd.read_pickle('data/quotes.pkl')"
   ]
  },
  {
   "cell_type": "code",
   "execution_count": 5,
   "id": "desirable-manual",
   "metadata": {},
   "outputs": [
    {
     "data": {
      "text/html": [
       "<div>\n",
       "<style scoped>\n",
       "    .dataframe tbody tr th:only-of-type {\n",
       "        vertical-align: middle;\n",
       "    }\n",
       "\n",
       "    .dataframe tbody tr th {\n",
       "        vertical-align: top;\n",
       "    }\n",
       "\n",
       "    .dataframe thead th {\n",
       "        text-align: right;\n",
       "    }\n",
       "</style>\n",
       "<table border=\"1\" class=\"dataframe\">\n",
       "  <thead>\n",
       "    <tr style=\"text-align: right;\">\n",
       "      <th></th>\n",
       "      <th>Quote</th>\n",
       "      <th>Popularity</th>\n",
       "      <th>Category</th>\n",
       "    </tr>\n",
       "  </thead>\n",
       "  <tbody>\n",
       "    <tr>\n",
       "      <th>0</th>\n",
       "      <td>Don't cry because it's over, smile because it ...</td>\n",
       "      <td>0.155666</td>\n",
       "      <td>life</td>\n",
       "    </tr>\n",
       "    <tr>\n",
       "      <th>1</th>\n",
       "      <td>Don't cry because it's over, smile because it ...</td>\n",
       "      <td>0.155666</td>\n",
       "      <td>happiness</td>\n",
       "    </tr>\n",
       "    <tr>\n",
       "      <th>2</th>\n",
       "      <td>I'm selfish, impatient and a little insecure. ...</td>\n",
       "      <td>0.129122</td>\n",
       "      <td>love</td>\n",
       "    </tr>\n",
       "    <tr>\n",
       "      <th>3</th>\n",
       "      <td>I'm selfish, impatient and a little insecure. ...</td>\n",
       "      <td>0.129122</td>\n",
       "      <td>life</td>\n",
       "    </tr>\n",
       "    <tr>\n",
       "      <th>4</th>\n",
       "      <td>I'm selfish, impatient and a little insecure. ...</td>\n",
       "      <td>0.129122</td>\n",
       "      <td>truth</td>\n",
       "    </tr>\n",
       "    <tr>\n",
       "      <th>...</th>\n",
       "      <td>...</td>\n",
       "      <td>...</td>\n",
       "      <td>...</td>\n",
       "    </tr>\n",
       "    <tr>\n",
       "      <th>48386</th>\n",
       "      <td>In Buddhism, they say attachment to anything o...</td>\n",
       "      <td>0.000000</td>\n",
       "      <td>humor</td>\n",
       "    </tr>\n",
       "    <tr>\n",
       "      <th>48387</th>\n",
       "      <td>I love British humor. It's just so - surreal.</td>\n",
       "      <td>0.000000</td>\n",
       "      <td>humor</td>\n",
       "    </tr>\n",
       "    <tr>\n",
       "      <th>48388</th>\n",
       "      <td>I've got a sense of humor. I'm a funny guy.</td>\n",
       "      <td>0.000000</td>\n",
       "      <td>humor</td>\n",
       "    </tr>\n",
       "    <tr>\n",
       "      <th>48389</th>\n",
       "      <td>Humor is such a wonderful thing, helping you r...</td>\n",
       "      <td>0.000000</td>\n",
       "      <td>humor</td>\n",
       "    </tr>\n",
       "    <tr>\n",
       "      <th>48390</th>\n",
       "      <td>Life Is Full of Obstacles, Stumble Upon !!</td>\n",
       "      <td>-0.000001</td>\n",
       "      <td>inspiration</td>\n",
       "    </tr>\n",
       "  </tbody>\n",
       "</table>\n",
       "<p>48391 rows × 3 columns</p>\n",
       "</div>"
      ],
      "text/plain": [
       "                                                   Quote  Popularity  \\\n",
       "0      Don't cry because it's over, smile because it ...    0.155666   \n",
       "1      Don't cry because it's over, smile because it ...    0.155666   \n",
       "2      I'm selfish, impatient and a little insecure. ...    0.129122   \n",
       "3      I'm selfish, impatient and a little insecure. ...    0.129122   \n",
       "4      I'm selfish, impatient and a little insecure. ...    0.129122   \n",
       "...                                                  ...         ...   \n",
       "48386  In Buddhism, they say attachment to anything o...    0.000000   \n",
       "48387      I love British humor. It's just so - surreal.    0.000000   \n",
       "48388        I've got a sense of humor. I'm a funny guy.    0.000000   \n",
       "48389  Humor is such a wonderful thing, helping you r...    0.000000   \n",
       "48390         Life Is Full of Obstacles, Stumble Upon !!   -0.000001   \n",
       "\n",
       "          Category  \n",
       "0             life  \n",
       "1        happiness  \n",
       "2             love  \n",
       "3             life  \n",
       "4            truth  \n",
       "...            ...  \n",
       "48386        humor  \n",
       "48387        humor  \n",
       "48388        humor  \n",
       "48389        humor  \n",
       "48390  inspiration  \n",
       "\n",
       "[48391 rows x 3 columns]"
      ]
     },
     "execution_count": 5,
     "metadata": {},
     "output_type": "execute_result"
    }
   ],
   "source": [
    "df = df.drop(['Author', 'Tags'], axis=1)\n",
    "df"
   ]
  },
  {
   "cell_type": "code",
   "execution_count": null,
   "id": "bibliographic-nursery",
   "metadata": {},
   "outputs": [],
   "source": []
  }
 ],
 "metadata": {
  "kernelspec": {
   "display_name": "Python 3",
   "language": "python",
   "name": "python3"
  },
  "language_info": {
   "codemirror_mode": {
    "name": "ipython",
    "version": 3
   },
   "file_extension": ".py",
   "mimetype": "text/x-python",
   "name": "python",
   "nbconvert_exporter": "python",
   "pygments_lexer": "ipython3",
   "version": "3.8.6"
  }
 },
 "nbformat": 4,
 "nbformat_minor": 5
}
